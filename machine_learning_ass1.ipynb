{
  "nbformat": 4,
  "nbformat_minor": 0,
  "metadata": {
    "colab": {
      "provenance": []
    },
    "kernelspec": {
      "name": "python3",
      "display_name": "Python 3"
    },
    "language_info": {
      "name": "python"
    }
  },
  "cells": [
    {
      "cell_type": "markdown",
      "source": [
        "# Question 1: Explain the differences between AI, ML, Deep Learning (DL), and Data Science (DS).\n",
        "\n",
        "# Answer-1\n",
        "\n",
        "#Artificial Intelligence (AI):\n",
        "# AI is a broad field of computer science focused on building systems that can mimic human intelligence, such as problem-solving, reasoning, learning, and decision-making. Example: Chatbots like Siri or Alexa.\n",
        "\n",
        "# Machine Learning (ML):\n",
        "# ML is a subset of AI where machines learn from data without being explicitly programmed. It uses algorithms to identify patterns and improve performance over time. Example: Spam email detection.\n",
        "\n",
        "# Deep Learning (DL):\n",
        "# DL is a subset of ML that uses artificial neural networks with many layers (deep networks) to process complex data such as images, speech, or natural language. Example: Face recognition in social media apps.\n",
        "\n",
        "# Data Science (DS):\n",
        "# Data Science is the practice of extracting knowledge and insights from structured and unstructured data using statistics, programming, and domain expertise. It may use AI/ML tools but is broader, focusing on data processing, visualization, and decision-making. Example: Analyzing customer behavior trends in e-commerce.\n",
        "\n",
        "\n",
        "\n",
        "\n",
        "\n"
      ],
      "metadata": {
        "id": "OTV7OlWlTIFe"
      }
    },
    {
      "cell_type": "markdown",
      "source": [
        "\n",
        "\n",
        "\n",
        "\n",
        "\n",
        "\n",
        "# Question 2: What are the types of machine learning? Describe each with one real-world example.\n",
        "\n",
        "# Answer:2\n",
        "\n",
        "# 1. Supervised Learning:\n",
        "# The model is trained on labeled data (input-output pairs). It learns to predict the output from new inputs.\n",
        "# Example: Predicting house prices based on size and location.\n",
        "\n",
        "\n",
        "#2. Unsupervised Learning:\n",
        "#The model works with unlabeled data and tries to find hidden patterns or groupings.\n",
        "#Example: Customer segmentation in marketing (grouping customers based on buying habits).\n",
        "\n",
        "\n",
        "#3. Reinforcement Learning:\n",
        "#The model learns through trial and error by receiving rewards or penalties for actions.\n",
        "#Example: Training a robot to walk or AI playing games like chess.\n",
        "\n",
        "\n",
        "#4. Semi-Supervised Learning (optional, some syllabi include this):\n",
        "#The model is trained on a small amount of labeled data and a large amount of unlabeled data.\n",
        "#Example: Identifying medical images when only a few are labeled by doctors."
      ],
      "metadata": {
        "id": "tbgWQZOwT3cf"
      }
    },
    {
      "cell_type": "markdown",
      "source": [
        "# Question 3: Define overfitting, underfitting, and the bias-variance tradeoff in machine learning.\n",
        "\n",
        "#Answer:3\n",
        "\n",
        "#Overfitting:\n",
        "#Overfitting happens when a machine learning model learns not only the underlying patterns but also the noise in the training data. The model performs very well on training data but fails to generalize to new, unseen data.\n",
        "#Example: A decision tree that is too deep and memorizes training examples instead of learning general rules.\n",
        "\n",
        "#Underfitting:\n",
        "#Underfitting occurs when a model is too simple to capture the underlying patterns in the data. It performs poorly on both training and testing datasets because it has not learned enough.\n",
        "#Example: Using a linear model to fit non-linear data.\n",
        "\n",
        "#Bias-Variance Tradeoff:\n",
        "#In machine learning, bias is the error from overly simplistic models (leading to underfitting), while variance is the error from overly complex models (leading to overfitting). The bias-variance tradeoff is the balance between these two errors. The goal is to build a model that is complex enough to capture patterns (low bias) but not too complex that it learns noise (low variance), ensuring good generalization on new data."
      ],
      "metadata": {
        "id": "5BDK-kdWUVG6"
      }
    },
    {
      "cell_type": "markdown",
      "source": [
        "#Question 4: What are outliers in a dataset, and list three common techniques for handling them.\n",
        "\n",
        "#Answer:4\n",
        "\n",
        "#Outliers:\n",
        "#Outliers are data points that differ significantly from other observations in a dataset. They may occur due to variability in data, measurement errors, or unusual events. Outliers can distort statistical analysis and reduce the accuracy of machine learning models.\n",
        "\n",
        "#Common Techniques for Handling Outliers:\n",
        "\n",
        "#1. Removal of Outliers:\n",
        "#If outliers are due to errors or irrelevant data, they can be removed to improve model performance.\n",
        "#Example: Removing negative values for age in a dataset.\n",
        "\n",
        "\n",
        "#2. Transformation:\n",
        "#Applying mathematical transformations (like log, square root, or Box-Cox transformation) reduces the effect of extreme values.\n",
        "#Example: Using log transformation on highly skewed income data.\n",
        "\n",
        "\n",
        "#3. Capping (Winsorization):\n",
        "#Replacing extreme values with a certain percentile value (e.g., replacing values above the 95th percentile with the 95th percentile itself).\n",
        "#Example: Limiting extreme salaries in an employee dataset."
      ],
      "metadata": {
        "id": "5oUdaiX-U98n"
      }
    },
    {
      "cell_type": "markdown",
      "source": [
        "# Question 5: Explain the process of handling missing values and mention one imputation technique for numerical and one for categorical data.\n",
        "\n",
        "#Answer:5\n",
        "\n",
        "#Handling Missing Values:\n",
        "#Missing values occur when no data is stored for a variable in an observation. If not handled properly, they can lead to biased analysis and reduce the performance of machine learning models. The process of handling missing values typically involves:\n",
        "\n",
        "#1. Identifying missing values in the dataset.\n",
        "\n",
        "\n",
        "#2. Analyzing the pattern and percentage of missing data (random or systematic).\n",
        "\n",
        "\n",
        "#3. Deciding whether to remove, replace, or impute the missing values.\n",
        "\n",
        "\n",
        "#4. Applying appropriate techniques based on the type of data and problem.\n",
        "\n",
        "\n",
        "\n",
        "#Imputation Techniques:\n",
        "\n",
        "#1. For Numerical Data:\n",
        "\n",
        "#Mean/Median Imputation: Replace missing values with the mean or median of the available data.\n",
        "\n",
        "#Example: If age is missing, replace it with the median age of the dataset.\n",
        "\n",
        "\n",
        "\n",
        "#2. For Categorical Data:\n",
        "\n",
        "#Mode Imputation: Replace missing values with the most frequent category (mode).\n",
        "\n",
        "#Example: If “Gender” is missing, fill it with the most common category (e.g., “Male” or “Female”).\n",
        "\n",
        "\n",
        "\n",
        "\n",
        "\n",
        "#This ensures the dataset remains consistent and usable for training models."
      ],
      "metadata": {
        "id": "ZKJFETi-VlF1"
      }
    },
    {
      "cell_type": "code",
      "source": [
        "#Question 6: Write a Python program that creates a synthetic imbalanced dataset with make_classification() from sklearn.datasets and prints the class distribution.\n",
        "\n",
        "from sklearn.datasets import make_classification\n",
        "import numpy as np\n",
        "import collections\n",
        "\n",
        "# Create imbalanced dataset\n",
        "X, y = make_classification(n_samples=1000,\n",
        "                           n_features=10,\n",
        "                           n_classes=2,\n",
        "                           n_informative=5,\n",
        "                           weights=[0.9, 0.1],  # 90% of class 0, 10% of class 1\n",
        "                           random_state=42)\n",
        "\n",
        "# Print class distribution\n",
        "class_distribution = collections.Counter(y)\n",
        "print(\"Class distribution:\", class_distribution)\n",
        "\n",
        "\n",
        "\n",
        "\n"
      ],
      "metadata": {
        "colab": {
          "base_uri": "https://localhost:8080/"
        },
        "id": "XeJPf-2eYEJ7",
        "outputId": "6c9bf911-31f0-4c67-a524-00defe2c4026"
      },
      "execution_count": 1,
      "outputs": [
        {
          "output_type": "stream",
          "name": "stdout",
          "text": [
            "Class distribution: Counter({np.int64(0): 896, np.int64(1): 104})\n"
          ]
        }
      ]
    },
    {
      "cell_type": "code",
      "source": [
        "#Question 7: Implement one-hot encoding using pandas for the following list of colors: ['Red', 'Green', 'Blue', 'Green', 'Red']. Print the resulting dataframe.\n",
        "\n",
        "#Answer:\n",
        "\n",
        "import pandas as pd\n",
        "\n",
        "# List of colors\n",
        "colors = ['Red', 'Green', 'Blue', 'Green', 'Red']\n",
        "\n",
        "# Create DataFrame\n",
        "df = pd.DataFrame(colors, columns=['Color'])\n",
        "\n",
        "# Apply One-Hot Encoding\n",
        "one_hot = pd.get_dummies(df['Color'])\n",
        "\n",
        "# Concatenate with original DataFrame (optional)\n",
        "df_encoded = pd.concat([df, one_hot], axis=1)\n",
        "\n",
        "# Print result\n",
        "print(df_encoded)\n",
        "\n"
      ],
      "metadata": {
        "colab": {
          "base_uri": "https://localhost:8080/"
        },
        "id": "Tq4hE_KVYUC6",
        "outputId": "7965c9e2-87e5-4ac4-c495-1d82d5c73d99"
      },
      "execution_count": 2,
      "outputs": [
        {
          "output_type": "stream",
          "name": "stdout",
          "text": [
            "   Color   Blue  Green    Red\n",
            "0    Red  False  False   True\n",
            "1  Green  False   True  False\n",
            "2   Blue   True  False  False\n",
            "3  Green  False   True  False\n",
            "4    Red  False  False   True\n"
          ]
        }
      ]
    },
    {
      "cell_type": "code",
      "source": [],
      "metadata": {
        "id": "z0DlbpwMYbgD"
      },
      "execution_count": null,
      "outputs": []
    },
    {
      "cell_type": "markdown",
      "source": [],
      "metadata": {
        "id": "RddW8XrjX9hi"
      }
    },
    {
      "cell_type": "code",
      "execution_count": 3,
      "metadata": {
        "colab": {
          "base_uri": "https://localhost:8080/",
          "height": 1000
        },
        "id": "erf6woKrTHMm",
        "outputId": "5b08d8fd-fc51-48eb-9b9d-eb866850738c"
      },
      "outputs": [
        {
          "output_type": "display_data",
          "data": {
            "text/plain": [
              "<Figure size 640x480 with 1 Axes>"
            ],
            "image/png": "[encoded data removed]"
          },
          "metadata": {}
        },
        {
          "output_type": "stream",
          "name": "stderr",
          "text": [
            "/tmp/ipython-input-1691829848.py:36: FutureWarning: A value is trying to be set on a copy of a DataFrame or Series through chained assignment using an inplace method.\n",
            "The behavior will change in pandas 3.0. This inplace method will never work because the intermediate object on which we are setting values always behaves as a copy.\n",
            "\n",
            "For example, when doing 'df[col].method(value, inplace=True)', try using 'df.method({col: value}, inplace=True)' or df[col] = df[col].method(value) instead, to perform the operation inplace on the original object.\n",
            "\n",
            "\n",
            "  df['Value'].fillna(mean_value, inplace=True)\n"
          ]
        },
        {
          "output_type": "display_data",
          "data": {
            "text/plain": [
              "<Figure size 640x480 with 1 Axes>"
            ],
            "image/png": "[encoded data removed]"
          },
          "metadata": {}
        }
      ],
      "source": [
        "#Question 8: Write a Python script to:\n",
        "\n",
        "#Generate 1000 samples from a normal distribution.\n",
        "\n",
        "#Introduce 50 random missing values.\n",
        "\n",
        "#Fill missing values with the column mean.\n",
        "\n",
        "#Plot a histogram before and after imputation.\n",
        "\n",
        "\n",
        "#Answer:\n",
        "\n",
        "import numpy as np\n",
        "import pandas as pd\n",
        "import matplotlib.pyplot as plt\n",
        "\n",
        "# Step 1: Generate 1000 samples from a normal distribution\n",
        "data = np.random.randn(1000)\n",
        "\n",
        "# Step 2: Convert to DataFrame\n",
        "df = pd.DataFrame(data, columns=['Value'])\n",
        "\n",
        "# Step 3: Introduce 50 random missing values\n",
        "nan_indices = np.random.choice(df.index, size=50, replace=False)\n",
        "df.loc[nan_indices, 'Value'] = np.nan\n",
        "\n",
        "# Step 4: Plot histogram before imputation\n",
        "plt.hist(df['Value'].dropna(), bins=30, alpha=0.7, label=\"Before Imputation\")\n",
        "plt.legend()\n",
        "plt.title(\"Histogram Before Imputation\")\n",
        "plt.show()\n",
        "\n",
        "# Step 5: Fill missing values with column mean\n",
        "mean_value = df['Value'].mean()\n",
        "df['Value'].fillna(mean_value, inplace=True)\n",
        "\n",
        "# Step 6: Plot histogram after imputation\n",
        "plt.hist(df['Value'], bins=30, alpha=0.7, color='orange', label=\"After Imputation\")\n",
        "plt.legend()\n",
        "plt.title(\"Histogram After Imputation\")\n",
        "plt.show()"
      ]
    },
    {
      "cell_type": "code",
      "source": [
        "#Question 9: Implement Min-Max scaling on the following list of numbers [2, 5, 10, 15, 20] using sklearn.preprocessing. MinMaxScaler. Print the scaled array.\n",
        "import numpy as np\n",
        "from sklearn.preprocessing import MinMaxScaler\n",
        "\n",
        "# Original data\n",
        "data = np.array([2, 5, 10, 15, 20]).reshape(-1, 1)\n",
        "\n",
        "# Apply Min-Max Scaling\n",
        "scaler = MinMaxScaler()\n",
        "scaled_data = scaler.fit_transform(data)\n",
        "\n",
        "print(\"Original Data:\\n\", data.flatten())\n",
        "print(\"Scaled Data:\\n\", scaled_data.flatten())"
      ],
      "metadata": {
        "colab": {
          "base_uri": "https://localhost:8080/"
        },
        "id": "-FTqptiAYm84",
        "outputId": "33cf0fbb-b37d-412b-be40-d43d4b2f1ba3"
      },
      "execution_count": 4,
      "outputs": [
        {
          "output_type": "stream",
          "name": "stdout",
          "text": [
            "Original Data:\n",
            " [ 2  5 10 15 20]\n",
            "Scaled Data:\n",
            " [0.         0.16666667 0.44444444 0.72222222 1.        ]\n"
          ]
        }
      ]
    },
    {
      "cell_type": "code",
      "source": [
        "#Question 10: You are working as a data scientist for a retail company. You receive a customer transaction dataset that contains:\n",
        "\n",
        "#Missing ages,\n",
        "\n",
        "#Outliers in transaction amount,\n",
        "\n",
        "#A highly Imbalanced target (fraud vs. non-fraud).\n",
        "\n",
        "#Categorical variables like payment method.\n",
        "\n",
        "#Explain the step-by-step data preparation plan you'd follow before training a machine learning model, Include how you'd address missing data, outliers, imbalance, and encoding.\n",
        "#Answer:\n",
        "\n",
        "#Step 1: Handle Missing Values (ages)\n",
        "\n",
        "#Use imputation (e.g., fill missing ages with the median to avoid bias from extreme values).\n",
        "\n",
        "\n",
        "import pandas as pd\n",
        "from sklearn.impute import SimpleImputer\n",
        "\n",
        "# Example dataset\n",
        "data = pd.DataFrame({\n",
        "    'age': [25, 32, None, 40, None],\n",
        "    'transaction_amount': [200, 5000, 150, 300, 100000],\n",
        "    'payment_method': ['card', 'cash', 'online', 'card', 'cash'],\n",
        "    'fraud': [0, 0, 1, 0, 1]\n",
        "})\n",
        "\n",
        "# Impute missing ages with median\n",
        "imputer = SimpleImputer(strategy='median')\n",
        "data['age'] = imputer.fit_transform(data[['age']])\n",
        "\n",
        "\n",
        "\n",
        "#Step 2: Handle Outliers (transaction amount)\n",
        "\n",
        "#Use log transformation or IQR-based capping to reduce outlier impact.\n",
        "\n",
        "\n",
        "import numpy as np\n",
        "\n",
        "# Log transform transaction_amount to reduce skewness\n",
        "data['transaction_amount'] = np.log1p(data['transaction_amount'])\n",
        "\n",
        "\n",
        "\n",
        "\n",
        "#Step 3: Handle Class Imbalance (fraud vs. non-fraud)\n",
        "\n",
        "#Use SMOTE (Synthetic Minority Over-sampling Technique) or class weights.\n",
        "\n",
        "\n",
        "from imblearn.over_sampling import SMOTE\n",
        "\n",
        "X = data.drop('fraud', axis=1)\n",
        "y = data['fraud']\n",
        "\n",
        "# For categorical encoding before SMOTE\n",
        "X = pd.get_dummies(X, drop_first=True)\n",
        "\n",
        "# Apply SMOTE\n",
        "sm = SMOTE(random_state=42, k_neighbors=1) # Changed k_neighbors to 1\n",
        "X_res, y_res = sm.fit_resample(X, y)\n",
        "\n",
        "\n",
        "\n",
        "\n",
        "#Step 4: Encode Categorical Variables (payment method)\n",
        "\n",
        "#Use One-Hot Encoding for non-ordinal categorical features.\n",
        "\n",
        "\n",
        "# One-hot encoding already done above with get_dummies\n",
        "print(X_res.head())"
      ],
      "metadata": {
        "colab": {
          "base_uri": "https://localhost:8080/"
        },
        "id": "dJ93nl4pZC50",
        "outputId": "57187b66-1dba-4edc-c64b-cfb66bffceb0"
      },
      "execution_count": 6,
      "outputs": [
        {
          "output_type": "stream",
          "name": "stdout",
          "text": [
            "    age  transaction_amount  payment_method_cash  payment_method_online\n",
            "0  25.0            5.303305                False                  False\n",
            "1  32.0            8.517393                 True                  False\n",
            "2  32.0            5.017280                False                   True\n",
            "3  40.0            5.707110                False                  False\n",
            "4  32.0           11.512935                 True                  False\n"
          ]
        }
      ]
    },
    {
      "cell_type": "code",
      "source": [],
      "metadata": {
        "id": "KBvfuGBiZi3t"
      },
      "execution_count": null,
      "outputs": []
    }
  ]
}